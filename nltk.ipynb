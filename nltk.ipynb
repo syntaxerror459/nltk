{
 "cells": [
  {
   "cell_type": "code",
   "execution_count": 1,
   "metadata": {},
   "outputs": [
    {
     "name": "stdout",
     "output_type": "stream",
     "text": [
      "STEMMING WORDS:\n",
      "\n",
      "STEMMER COMPARISION:\n",
      "\n",
      "----------------------------------------------------------------\n",
      "|        WORD        |   PORTER STEMMER   | LANCASTER STEMMER  |\n",
      "----------------------------------------------------------------\n",
      "|        cats        |        cat         |        cat         |\n",
      "|      trouble       |       troubl       |       troubl       |\n",
      "|     troubling      |       troubl       |       troubl       |\n",
      "|      troubled      |       troubl       |       troubl       |\n",
      "|       friend       |       friend       |       friend       |\n",
      "|      friends       |       friend       |       friend       |\n",
      "|     friendship     |     friendship     |       friend       |\n",
      "|    friendships     |     friendship     |       friend       |\n",
      "|       stabil       |       stabil       |       stabl        |\n",
      "|    destabilize     |      destabil      |        dest        |\n",
      "|  misunderstanding  |   misunderstand    |   misunderstand    |\n",
      "|      railroad      |      railroad      |      railroad      |\n",
      "|     moonlight      |     moonlight      |     moonlight      |\n",
      "|      football      |      footbal       |      footbal       |\n",
      "----------------------------------------------------------------\n",
      "\n",
      "================================================================================\n",
      "\n",
      "STEMMING PASSAGES:\n",
      "\n",
      "ORIGINAL PASSAGE :\n",
      "\n",
      "Pythoners are very intelligent and work very pythonly and now they are pythoning their way to success. 'cause python's a very intelligent language. The Internet of things (IoT) is a system of interrelated computing devices, mechanical and digital machines provided with unique identifiers (UIDs) and  the ability to transfer data over a network without requiring human-to-human  or human-to-computer interaction.\n",
      "\n",
      "STEMMED PASSAGE :\n",
      "\n",
      "python are veri intellig and work veri pythonli and now they are python their way to success . 'caus python 's a veri intellig languag . the internet of thing ( iot ) is a system of interrel comput devic , mechan and digit machin provid with uniqu identifi ( uid ) and the abil to transfer data over a network without requir human-to-human or human-to-comput interact .\n",
      "\n",
      "STEMMED PASSAGE (using wordpunct_tokenizer) :\n",
      "\n",
      "python are veri intellig and work veri pythonli and now they are python their way to success . ' caus python ' s a veri intellig languag . the internet of thing ( iot ) is a system of interrel comput devic , mechan and digit machin provid with uniqu identifi ( uid ) and the abil to transfer data over a network without requir human - to - human or human - to - comput interact .\n",
      "\n",
      "================================================================================\n",
      "\n"
     ]
    }
   ],
   "source": [
    "from nltk import (\n",
    "    PorterStemmer, LancasterStemmer,\n",
    "    word_tokenize, wordpunct_tokenize, sent_tokenize\n",
    ")\n",
    "import yaml\n",
    "\n",
    "porter = PorterStemmer()\n",
    "lancaster = LancasterStemmer()\n",
    "\n",
    "line = \"\\n\"+\"=\"*80+\"\\n\"\n",
    "\n",
    "def stem_passage(passage,punct_tokenize = False):\n",
    "    return \" \".join(\n",
    "        stem_sentence(sentence,punct_tokenize)\n",
    "        for sentence in sent_tokenize(passage)\n",
    "    )\n",
    "\n",
    "def stem_sentence(sentence,punct_tokenize=False):\n",
    "    tokenizer_func = wordpunct_tokenize if punct_tokenize else word_tokenize\n",
    "    return \" \".join(\n",
    "        porter.stem(word)\n",
    "        for word in tokenizer_func(sentence)\n",
    "    )\n",
    "\n",
    "if __name__ == \"__main__\":\n",
    "    with open(\"stemming.yaml\") as f:\n",
    "        stemming_words, stemming_passage = yaml.full_load(f).values()\n",
    "    print(\n",
    "        \"STEMMING WORDS:\\n\",\n",
    "        \"STEMMER COMPARISION:\\n\",sep = \"\\n\"\n",
    "    )\n",
    "    print(\"-\"*64)\n",
    "    print(f\"|{'WORD':^20}|{'PORTER STEMMER':^20}|{'LANCASTER STEMMER':^20}|\")\n",
    "    print(\"-\"*64)\n",
    "    for word in stemming_words:\n",
    "        print(f\"|{word:^20}|{porter.stem(word):^20}|{lancaster.stem(word):^20}|\")\n",
    "    print(\"-\"*64)\n",
    "    print(line)\n",
    "\n",
    "    print(\"STEMMING PASSAGES:\\n\")\n",
    "    \n",
    "    print(\n",
    "        \"ORIGINAL PASSAGE :\\n\",\n",
    "        stemming_passage,\n",
    "        \"\\nSTEMMED PASSAGE :\\n\",\n",
    "        stem_passage(stemming_passage),\n",
    "        \"\\nSTEMMED PASSAGE (using wordpunct_tokenizer) :\\n\",\n",
    "        stem_passage(stemming_passage,True),sep=\"\\n\"\n",
    "    )\n",
    "    print(line)"
   ]
  },
  {
   "cell_type": "code",
   "execution_count": null,
   "metadata": {},
   "outputs": [],
   "source": []
  }
 ],
 "metadata": {
  "kernelspec": {
   "display_name": "Python 3.9.13 ('base')",
   "language": "python",
   "name": "python3"
  },
  "language_info": {
   "codemirror_mode": {
    "name": "ipython",
    "version": 3
   },
   "file_extension": ".py",
   "mimetype": "text/x-python",
   "name": "python",
   "nbconvert_exporter": "python",
   "pygments_lexer": "ipython3",
   "version": "3.9.13"
  },
  "orig_nbformat": 4,
  "vscode": {
   "interpreter": {
    "hash": "5b30f736e45932896a1a27b0973802247d41f5c6dfddee68ac14f4b5531b8d9e"
   }
  }
 },
 "nbformat": 4,
 "nbformat_minor": 2
}
